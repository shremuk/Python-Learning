{
 "cells": [
  {
   "cell_type": "code",
   "execution_count": 1,
   "metadata": {},
   "outputs": [],
   "source": [
    "import pandas as pd\n",
    "from pandas import Series, DataFrame\n",
    "import numpy as np\n",
    "from numpy import nan as NA\n",
    "import matplotlib.pyplot as plt\n",
    "import matplotlib.pyplot as plt; plt.rcdefaults()\n",
    "import seaborn as sns\n",
    "import os\n",
    "plt.style.use('fivethirtyeight')\n",
    "import warnings\n",
    "warnings.filterwarnings('ignore')"
   ]
  },
  {
   "cell_type": "code",
   "execution_count": 2,
   "metadata": {},
   "outputs": [],
   "source": [
    "os.chdir(\"D:\\Data Science\\Capillary dataset\")\n",
    "data = pd.read_csv(\"product_attributes.csv\")\n",
    "data.head()\n",
    "data2 = pd.read_csv(\"train.csv\", parse_dates = [3], infer_datetime_format = True, dayfirst = True)\n",
    "data2.head()\n",
    "data2.dtypes\n",
    "data2['OrderDate'][2].month\n",
    "data2.head()\n",
    "data2['OrderMonth'] = data2.apply(lambda x: x['OrderDate'].month, axis = 1 )"
   ]
  },
  {
   "cell_type": "code",
   "execution_count": 3,
   "metadata": {},
   "outputs": [
    {
     "data": {
      "text/plain": [
       "3026"
      ]
     },
     "execution_count": 3,
     "metadata": {},
     "output_type": "execute_result"
    }
   ],
   "source": [
    "#Finding no. of unique products\n",
    "\n",
    "data2['productid'].nunique()"
   ]
  },
  {
   "cell_type": "code",
   "execution_count": 4,
   "metadata": {},
   "outputs": [
    {
     "name": "stdout",
     "output_type": "stream",
     "text": [
      "Top 10 products are:  [12658512, 12407154, 12407730, 12371378, 11659624, 12407400, 12407398, 12406904, 12407742, 12406886]\n"
     ]
    }
   ],
   "source": [
    "# Top 10 products sold\n",
    "\n",
    "Quant_month = data2.groupby(['productid'])['Quantity'].agg(sum)  # groupby creates a new DF called \"Quant_month\" grouping product id and sum of its quantities\n",
    "Quant_month.head(10)\n",
    "Quant_month.sort_values(ascending = False, inplace = True)\n",
    "print(\"Top 10 products are: \", list(Quant_month.index[0:10]))       # Quant_month.productid.head(10) is written as Quant_month.index since productid is the index"
   ]
  },
  {
   "cell_type": "code",
   "execution_count": 5,
   "metadata": {},
   "outputs": [
    {
     "data": {
      "text/html": [
       "<div>\n",
       "<style scoped>\n",
       "    .dataframe tbody tr th:only-of-type {\n",
       "        vertical-align: middle;\n",
       "    }\n",
       "\n",
       "    .dataframe tbody tr th {\n",
       "        vertical-align: top;\n",
       "    }\n",
       "\n",
       "    .dataframe thead th {\n",
       "        text-align: right;\n",
       "    }\n",
       "</style>\n",
       "<table border=\"1\" class=\"dataframe\">\n",
       "  <thead>\n",
       "    <tr style=\"text-align: right;\">\n",
       "      <th></th>\n",
       "      <th>OrderMonth</th>\n",
       "      <th>Quantity</th>\n",
       "      <th>productid</th>\n",
       "    </tr>\n",
       "  </thead>\n",
       "  <tbody>\n",
       "    <tr>\n",
       "      <th>0</th>\n",
       "      <td>4</td>\n",
       "      <td>12</td>\n",
       "      <td>12988642</td>\n",
       "    </tr>\n",
       "    <tr>\n",
       "      <th>1</th>\n",
       "      <td>5</td>\n",
       "      <td>5</td>\n",
       "      <td>13033180</td>\n",
       "    </tr>\n",
       "    <tr>\n",
       "      <th>2</th>\n",
       "      <td>6</td>\n",
       "      <td>5</td>\n",
       "      <td>13076266</td>\n",
       "    </tr>\n",
       "    <tr>\n",
       "      <th>3</th>\n",
       "      <td>7</td>\n",
       "      <td>8</td>\n",
       "      <td>13072176</td>\n",
       "    </tr>\n",
       "    <tr>\n",
       "      <th>4</th>\n",
       "      <td>8</td>\n",
       "      <td>5</td>\n",
       "      <td>14110868</td>\n",
       "    </tr>\n",
       "    <tr>\n",
       "      <th>5</th>\n",
       "      <td>9</td>\n",
       "      <td>5</td>\n",
       "      <td>14122832</td>\n",
       "    </tr>\n",
       "    <tr>\n",
       "      <th>6</th>\n",
       "      <td>10</td>\n",
       "      <td>5</td>\n",
       "      <td>14129477</td>\n",
       "    </tr>\n",
       "  </tbody>\n",
       "</table>\n",
       "</div>"
      ],
      "text/plain": [
       "   OrderMonth  Quantity  productid\n",
       "0           4        12   12988642\n",
       "1           5         5   13033180\n",
       "2           6         5   13076266\n",
       "3           7         8   13072176\n",
       "4           8         5   14110868\n",
       "5           9         5   14122832\n",
       "6          10         5   14129477"
      ]
     },
     "execution_count": 5,
     "metadata": {},
     "output_type": "execute_result"
    }
   ],
   "source": [
    "# Month wise topmost products\n",
    "\n",
    "Monthly_topprod = data2.groupby(['OrderMonth', 'productid'])['Quantity'].agg(sum).reset_index()  # group by creates a new DF called \"Monthly_topprod\"\n",
    "Monthly_topprod.tail(20)\n",
    "# Now we have found quantity of every month sperately, now group month(eg. October as a whole to search for topmost product)\n",
    "Quant_wholemonth = data2.groupby(['OrderMonth'])['Quantity', 'productid'].agg(max).reset_index()\n",
    "Quant_wholemonth"
   ]
  },
  {
   "cell_type": "code",
   "execution_count": 6,
   "metadata": {},
   "outputs": [
    {
     "data": {
      "text/html": [
       "<div>\n",
       "<style scoped>\n",
       "    .dataframe tbody tr th:only-of-type {\n",
       "        vertical-align: middle;\n",
       "    }\n",
       "\n",
       "    .dataframe tbody tr th {\n",
       "        vertical-align: top;\n",
       "    }\n",
       "\n",
       "    .dataframe thead th {\n",
       "        text-align: right;\n",
       "    }\n",
       "</style>\n",
       "<table border=\"1\" class=\"dataframe\">\n",
       "  <thead>\n",
       "    <tr style=\"text-align: right;\">\n",
       "      <th></th>\n",
       "      <th>OrderMonth</th>\n",
       "      <th>Count_of_occurences</th>\n",
       "      <th>productid</th>\n",
       "    </tr>\n",
       "  </thead>\n",
       "  <tbody>\n",
       "    <tr>\n",
       "      <th>0</th>\n",
       "      <td>4</td>\n",
       "      <td>69</td>\n",
       "      <td>12988642</td>\n",
       "    </tr>\n",
       "    <tr>\n",
       "      <th>1</th>\n",
       "      <td>5</td>\n",
       "      <td>269</td>\n",
       "      <td>13033180</td>\n",
       "    </tr>\n",
       "    <tr>\n",
       "      <th>2</th>\n",
       "      <td>6</td>\n",
       "      <td>260</td>\n",
       "      <td>13076266</td>\n",
       "    </tr>\n",
       "    <tr>\n",
       "      <th>3</th>\n",
       "      <td>7</td>\n",
       "      <td>290</td>\n",
       "      <td>13072176</td>\n",
       "    </tr>\n",
       "    <tr>\n",
       "      <th>4</th>\n",
       "      <td>8</td>\n",
       "      <td>210</td>\n",
       "      <td>14110868</td>\n",
       "    </tr>\n",
       "    <tr>\n",
       "      <th>5</th>\n",
       "      <td>9</td>\n",
       "      <td>110</td>\n",
       "      <td>14122832</td>\n",
       "    </tr>\n",
       "    <tr>\n",
       "      <th>6</th>\n",
       "      <td>10</td>\n",
       "      <td>126</td>\n",
       "      <td>14129477</td>\n",
       "    </tr>\n",
       "  </tbody>\n",
       "</table>\n",
       "</div>"
      ],
      "text/plain": [
       "   OrderMonth  Count_of_occurences  productid\n",
       "0           4                   69   12988642\n",
       "1           5                  269   13033180\n",
       "2           6                  260   13076266\n",
       "3           7                  290   13072176\n",
       "4           8                  210   14110868\n",
       "5           9                  110   14122832\n",
       "6          10                  126   14129477"
      ]
     },
     "execution_count": 6,
     "metadata": {},
     "output_type": "execute_result"
    }
   ],
   "source": [
    "# Monthwise highest product occurences\n",
    "\n",
    "Higest_prodoccurence = data2.groupby(['productid','OrderMonth'])['OrderDate'].count().reset_index()  # count() counts index(if nothing is mentioned), ordrdate is counting the no of times the product has been purchased\n",
    "Higest_prodoccurence.rename(columns = {\"OrderDate\" :\"Count_of_occurences\"}, inplace = True)\n",
    "Higest_prodoccurence\n",
    "Monthwise_highestocc = Higest_prodoccurence.groupby(['OrderMonth'])['Count_of_occurences', 'productid'].agg(max).reset_index()\n",
    "Monthwise_highestocc"
   ]
  },
  {
   "cell_type": "code",
   "execution_count": null,
   "metadata": {},
   "outputs": [],
   "source": []
  }
 ],
 "metadata": {
  "kernelspec": {
   "display_name": "Python 3",
   "language": "python",
   "name": "python3"
  },
  "language_info": {
   "codemirror_mode": {
    "name": "ipython",
    "version": 3
   },
   "file_extension": ".py",
   "mimetype": "text/x-python",
   "name": "python",
   "nbconvert_exporter": "python",
   "pygments_lexer": "ipython3",
   "version": "3.6.4"
  }
 },
 "nbformat": 4,
 "nbformat_minor": 2
}
